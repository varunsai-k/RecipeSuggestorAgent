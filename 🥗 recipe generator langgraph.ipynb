{
 "cells": [
  {
   "cell_type": "markdown",
   "id": "649d9759",
   "metadata": {},
   "source": [
    "## 🥗 Recipe Suggestor Agent \n",
    "\n",
    "    your last minute recipe suggestor powered by gemini\n",
    "    \n",
    "    \n"
   ]
  },
  {
   "cell_type": "markdown",
   "id": "1f00ccd5",
   "metadata": {},
   "source": [
    "![](https://images.immediate.co.uk/production/volatile/sites/30/2020/08/chorizo-mozarella-gnocchi-bake-cropped-9ab73a3.jpg?quality=90&webp=true&resize=600,441)"
   ]
  },
  {
   "cell_type": "code",
   "execution_count": 1,
   "id": "abdf1d99",
   "metadata": {},
   "outputs": [],
   "source": [
    "from langgraph.graph import START,StateGraph, END\n",
    "from langgraph.graph.message import add_messages\n",
    "\n",
    "from typing import Annotated\n",
    "from typing_extensions import TypedDict, List\n",
    "\n",
    "from langchain_core.messages import HumanMessage, AIMessage\n",
    "\n",
    "from langchain_google_genai import ChatGoogleGenerativeAI\n",
    "\n",
    "import os\n",
    "os.environ[\"GOOGLE_API_KEY\"]=\"your_api_key\""
   ]
  },
  {
   "cell_type": "code",
   "execution_count": 2,
   "id": "b10b476b",
   "metadata": {},
   "outputs": [],
   "source": [
    "from langchain.prompts import ChatPromptTemplate"
   ]
  },
  {
   "cell_type": "code",
   "execution_count": 3,
   "id": "9bcef777",
   "metadata": {},
   "outputs": [],
   "source": [
    "class RecipeGeneratorState(TypedDict):\n",
    "    messages: Annotated[List[HumanMessage | AIMessage], \"The messages in the conversation\"]\n",
    "    available_ingredients: List[str]\n",
    "    dietary_preferences:str\n",
    "    meal_type:str\n",
    "    cooking_time:str"
   ]
  },
  {
   "cell_type": "code",
   "execution_count": 4,
   "id": "44a25957",
   "metadata": {},
   "outputs": [],
   "source": [
    "llm=ChatGoogleGenerativeAI(model=\"gemini-1.5-flash\")"
   ]
  },
  {
   "cell_type": "code",
   "execution_count": 5,
   "id": "8c0adb49",
   "metadata": {},
   "outputs": [],
   "source": [
    "recipe_prompt = ChatPromptTemplate.from_messages([\n",
    "    (\"system\", \"You are a knowledgeable culinary assistant. Suggest recipes based on the ingredients provided: {ingredients}. Take into account the dietary preferences: {preferences} and the meal type: {meal_type}. If the user has specified a cooking time, ensure the recipes fit within that time frame. Provide a brief list of suggested recipes with cooking instructions for each.\"),\n",
    "    (\"human\", \"I have {ingredients} and I’m looking for a {meal_type} recipe that fits my dietary preferences: {preferences}. I have {cooking_time} minutes for cooking. Can you suggest some recipes and provide the cooking instructions?\")\n",
    "])"
   ]
  },
  {
   "cell_type": "code",
   "execution_count": 12,
   "id": "1787b836",
   "metadata": {},
   "outputs": [],
   "source": [
    "recipe_prompt = ChatPromptTemplate.from_messages([\n",
    "    (\"system\", \"You are a knowledgeable culinary assistant. Suggest recipes based on the ingredients provided: {ingredients}. Take into account the dietary preferences: {preferences} and the meal type: {meal_type}. If the user has specified a cooking time, ensure the recipes fit within that time frame. Provide a brief list of suggested recipes only with the available ingredients only along with cooking instructions for each.\"),\n",
    "    (\"human\", \"I have {ingredients} and I’m looking for a {meal_type} recipe that fits my dietary preferences: {preferences}. I have {cooking_time} minutes for cooking. Can you suggest some recipes and provide the cooking instructions?\")\n",
    "])"
   ]
  },
  {
   "cell_type": "code",
   "execution_count": 13,
   "id": "d836e87a",
   "metadata": {},
   "outputs": [],
   "source": [
    "def input_available_ingredients(state: RecipeGeneratorState) -> RecipeGeneratorState:\n",
    "    print(\"Please enter your available ingredients to suggest recipe (comma-separated):\")\n",
    "    user_message = input(\"Your input: \")\n",
    "    return {\n",
    "        **state,\n",
    "        \"available_ingredients\": [ingredient.strip() for ingredient in user_message.split(',')],\n",
    "        \"messages\": state['messages'] + [HumanMessage(content=user_message)],\n",
    "    }\n",
    "\n",
    "\n",
    "def input_dietary_preferences(state: RecipeGeneratorState) -> RecipeGeneratorState:\n",
    "    print(\"Please provide any dietary restrictions or preferences: \")\n",
    "    user_message = input(\"Your input: \")\n",
    "    return {\n",
    "        **state,\n",
    "        \"dietary_preferences\": user_message,\n",
    "        \"messages\": state['messages'] + [HumanMessage(content=user_message)],\n",
    "    }\n",
    "\n",
    "def input_meal_type(state: RecipeGeneratorState) -> RecipeGeneratorState:\n",
    "    print(\"Are you looking for breakfast, lunch, dinner, or something else: \")\n",
    "    user_message = input(\"Your input: \")\n",
    "    return {\n",
    "        **state,\n",
    "        \"meal_type\": user_message,\n",
    "        \"messages\": state['messages'] + [HumanMessage(content=user_message)],\n",
    "    }\n",
    "def input_cooking_time(state: RecipeGeneratorState) -> RecipeGeneratorState:\n",
    "    print(\"How much time do you have for cooking? \")\n",
    "    user_message = input(\"Your input: \")\n",
    "    return {\n",
    "        **state,\n",
    "        \"cooking_time\": user_message,\n",
    "        \"messages\": state['messages'] + [HumanMessage(content=user_message)],\n",
    "    }\n",
    "def create_recipe(state: RecipeGeneratorState) -> RecipeGeneratorState:\n",
    "    print(f\"Creating an recipe based on available ingredients: {', '.join(state['available_ingredients'])}...\")\n",
    "    response = llm.invoke(recipe_prompt.format_messages(ingredients=\" , \".join(state['available_ingredients']), preferences=state['dietary_preferences'],meal_type=state['meal_type'],cooking_time=state['cooking_time']))\n",
    "    print(\"\\nFinal Recipe Suggestions:\")\n",
    "    print(response.content)\n",
    "    return {\n",
    "        **state,\n",
    "        \"messages\": state['messages'] + [AIMessage(content=response.content)],\n",
    "        \"itinerary\": response.content,\n",
    "    }"
   ]
  },
  {
   "cell_type": "code",
   "execution_count": 14,
   "id": "bbe3a356",
   "metadata": {},
   "outputs": [],
   "source": [
    "graph_builder=StateGraph(RecipeGeneratorState)\n",
    "\n",
    "graph_builder.add_node(\"input_available_ingredients\",input_available_ingredients)\n",
    "graph_builder.add_node(\"input_dietary_preferences\",input_dietary_preferences)\n",
    "graph_builder.add_node(\"input_meal_type\",input_meal_type)\n",
    "graph_builder.add_node(\"input_cooking_time\",input_cooking_time)\n",
    "graph_builder.add_node(\"create_recipe\",create_recipe)\n",
    "\n",
    "\n",
    "graph_builder.set_entry_point(\"input_available_ingredients\")\n",
    "\n",
    "graph_builder.add_edge(\"input_available_ingredients\",\"input_dietary_preferences\")\n",
    "graph_builder.add_edge(\"input_dietary_preferences\",\"input_meal_type\")\n",
    "graph_builder.add_edge(\"input_meal_type\",\"input_cooking_time\")\n",
    "graph_builder.add_edge(\"input_cooking_time\",\"create_recipe\")\n",
    "graph_builder.add_edge(\"create_recipe\",END)\n",
    "\n",
    "graph=graph_builder.compile()"
   ]
  },
  {
   "cell_type": "code",
   "execution_count": 15,
   "id": "0bd40215",
   "metadata": {},
   "outputs": [
    {
     "data": {
      "image/jpeg": "[encoded data removed]",
      "text/plain": [
       "<IPython.core.display.Image object>"
      ]
     },
     "metadata": {},
     "output_type": "display_data"
    }
   ],
   "source": [
    "from IPython.display import Image, display\n",
    "\n",
    "display(\n",
    "    Image(\n",
    "        graph.get_graph().draw_mermaid_png(\n",
    "            \n",
    "        )\n",
    "    )\n",
    ")"
   ]
  },
  {
   "cell_type": "code",
   "execution_count": 16,
   "id": "3ae4a05d",
   "metadata": {},
   "outputs": [],
   "source": [
    "def run_recipe_generator(user_request: str):\n",
    "    print(f\"Initial Request: {user_request}\\n\")\n",
    "    state = {\n",
    "        \"messages\": [HumanMessage(content=user_request)],\n",
    "        \"available_ingredients\": [],\n",
    "        \"dietary_preferences\":\"\",\n",
    "        \"meal_type\":\"\",\n",
    "        \"cooking_time\":\"\"\n",
    "        }\n",
    "    \n",
    "    for output in graph.stream(state):\n",
    "        pass  "
   ]
  },
  {
   "cell_type": "code",
   "execution_count": 18,
   "id": "a355666b",
   "metadata": {},
   "outputs": [
    {
     "name": "stdout",
     "output_type": "stream",
     "text": [
      "Initial Request: Could you please suggest me a recipe?\n",
      "\n",
      "Please enter your available ingredients to suggest recipe (comma-separated):\n",
      "Your input: Bread,eggs,cheese\n",
      "Please provide any dietary restrictions or preferences: \n",
      "Your input: Vegetarian\n",
      "Are you looking for breakfast, lunch, dinner, or something else: \n",
      "Your input: breakfast\n",
      "How much time do you have for cooking? \n",
      "Your input: 5mins\n",
      "Creating an recipe based on available ingredients: Bread, eggs, cheese...\n",
      "\n",
      "Final Recipe Suggestions:\n",
      "With those ingredients and a limited time frame, here are some quick and easy breakfast options:\n",
      "\n",
      "**1.  Cheese and Egg Toast:**\n",
      "\n",
      "* **Instructions:**\n",
      "    * Toast bread slices.\n",
      "    * Crack an egg into a bowl and whisk lightly.\n",
      "    * Add a slice of cheese to the toasted bread.\n",
      "    * Pour the whisked egg over the cheese.\n",
      "    * Microwave for 30-60 seconds, or until the egg is cooked to your liking. \n",
      "\n",
      "**2.  Cheesy Egg Scramble:**\n",
      "\n",
      "* **Instructions:**\n",
      "    * Scramble eggs in a bowl with a fork or whisk. \n",
      "    * Heat a small amount of oil or butter in a pan over medium heat.\n",
      "    * Pour the egg mixture into the pan and cook, stirring frequently.\n",
      "    * Grate some cheese over the eggs as they cook. \n",
      "    * Serve on toast or with a side of your favorite fruit.\n",
      "\n",
      "**3.  Egg & Cheese Sandwich:**\n",
      "\n",
      "* **Instructions:**\n",
      "    * Toast bread slices.\n",
      "    * Fry an egg in a pan over medium heat.\n",
      "    * Place the fried egg on a slice of toast.\n",
      "    * Add a slice of cheese on top of the egg.\n",
      "    * Top with the other slice of toast. \n",
      "\n"
     ]
    }
   ],
   "source": [
    "user_request = \"Could you please suggest me a recipe?\"\n",
    "run_recipe_generator(user_request)"
   ]
  },
  {
   "cell_type": "markdown",
   "id": "05fbbbc9",
   "metadata": {},
   "source": [
    "<div style=\"color:black;\n",
    "            display:fill;\n",
    "            border-radius:15px;\n",
    "            background-color:white;\n",
    "            font-size:80%;\n",
    "            font-family:Verdana;\n",
    "            letter-spacing:1px\">\n",
    "    <h3 style='padding: 20px;\n",
    "              color:black;\n",
    "               font-family: Times New Roman;\n",
    "              text-align:center;'>\n",
    "        IF LIKED THE NOTEBOOK, PLEASE SUPPORT BY GIVING ⭐.\n",
    "    </h3>\n",
    "\n",
    "</div>"
   ]
  }
 ],
 "metadata": {
  "kernelspec": {
   "display_name": "Python 3 (ipykernel)",
   "language": "python",
   "name": "python3"
  },
  "language_info": {
   "codemirror_mode": {
    "name": "ipython",
    "version": 3
   },
   "file_extension": ".py",
   "mimetype": "text/x-python",
   "name": "python",
   "nbconvert_exporter": "python",
   "pygments_lexer": "ipython3",
   "version": "3.10.9"
  }
 },
 "nbformat": 4,
 "nbformat_minor": 5
}
